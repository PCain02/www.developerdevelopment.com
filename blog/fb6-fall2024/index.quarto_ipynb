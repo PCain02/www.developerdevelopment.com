{
  "cells": [
    {
      "cell_type": "markdown",
      "metadata": {},
      "source": [
        "---\n",
        "author: [Hemani Alaparthi, Coltin Colucci, Gregory M. Kapfhammer]\n",
        "title: Fuzzing with Grammars\n",
        "date: '2024-10-26'\n",
        "date-format: long\n",
        "categories: [post, software engineering, fuzzing book]\n",
        "description: <em>Can we use rules to create intelligently-fuzzed inputs?</em>\n",
        "toc: true\n",
        "page-layout: full\n",
        "---\n",
        "\n",
        "\n",
        "## Grammar Toolbox\n",
        "In your own grammar toolbox there are many different ways in which you could use grammars. It is important to note that grammars are not very effective in meeting complex constraits. The example of this that is given in the FB book is that it would be hard to express a port range that is supposed to be between 1024 and 2048. There are a few different reasons why this would be hard to express one of them being that there is a limited range the grammar could not allow a number larger than 2048. This means that there would have to be specific rules in place to make sure that 2048 is valid and 2049 is invalid. This can become extremely complex to express very quickly when having to set these type of parameters. An example where grammars may be more practical would be \n",
        "using grammars as mutation seeds. The reason that grammars may be useful to use as an input is that they almost always can produce valid inputs from a syntactical standpoint. This is useful because when all inputs are syntactically valid which can reveal other areas in which inputs may fail.\n",
        "\n",
        "Another thing worth mentioning is escapes. Escapes can be used for delimiting nonterminals in grammars. This can be useful whenever you want to manipulate the input or output to have a specific value. \n"
      ],
      "id": "7335a6f8"
    },
    {
      "cell_type": "code",
      "metadata": {},
      "source": [
        "simple_nonterminal_grammar: Grammar = {\n",
        "    \"<start>\": [\"<nonterminal>\"],\n",
        "    \"<nonterminal>\": [\"<left-angle><identifier><right-angle>\"],\n",
        "    \"<left-angle>\": [\"<\"],\n",
        "    \"<right-angle>\": [\">\"],\n",
        "    \"<identifier>\": [\"id\"]  # for now\n",
        "}"
      ],
      "id": "33f1a8d6",
      "execution_count": null,
      "outputs": []
    },
    {
      "cell_type": "markdown",
      "metadata": {},
      "source": [
        "(Note that this does not work with simple_grammar_fuzzer(), but rather with the GrammarFuzzer class we'll introduce in the next chapter.)\n",
        "\n",
        "\n",
        "## Checking Grammars"
      ],
      "id": "d6055247"
    }
  ],
  "metadata": {
    "kernelspec": {
      "name": "python3",
      "language": "python",
      "display_name": "Python 3 (ipykernel)",
      "path": "/Users/c.colucci/Library/Caches/pypoetry/virtualenvs/developerdevelopment-C0-R0YRZ-py3.12/share/jupyter/kernels/python3"
    }
  },
  "nbformat": 4,
  "nbformat_minor": 5
}